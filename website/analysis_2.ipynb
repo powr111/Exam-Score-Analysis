{
 "cells": [
  {
   "cell_type": "code",
   "execution_count": 2,
   "metadata": {},
   "outputs": [],
   "source": [
    "import sqlite3 as sql, pandas as pd # handeling the data\n",
    "import numpy as np, scipy.stats as stats # performing statistical analyis/mathmatics\n",
    "import matplotlib.pyplot as plt # visulisations\n",
    "from sklearn.model_selection import train_test_split # ML\n",
    "import os # used when debugging to fix an issue with the paths"
   ]
  },
  {
   "cell_type": "code",
   "execution_count": 3,
   "metadata": {},
   "outputs": [],
   "source": [
    "df = pd.read_csv(r'C:\\Users\\alloh\\OneDrive\\Desktop\\coding\\workspace\\CV_projs\\SQL & ML\\website\\instance\\exams.csv', encoding = 'latin-1')"
   ]
  },
  {
   "cell_type": "code",
   "execution_count": 4,
   "metadata": {},
   "outputs": [],
   "source": [
    "df.rename(columns={'race/ethnicity':'ethnicity' ,\n",
    "                   'parental level of education':'parents_education' ,\n",
    "                   'test preparation course':'test_prep',\n",
    "                   'math score':'math',\n",
    "                   'writing score':'writing',\n",
    "                   'reading score':'reading'},inplace=True)\n"
   ]
  },
  {
   "cell_type": "code",
   "execution_count": 5,
   "metadata": {},
   "outputs": [],
   "source": [
    "with sql.connect(r'C:\\Users\\alloh\\OneDrive\\Desktop\\coding\\workspace\\CV_projs\\SQL & ML\\website\\instance\\database.db') as conn: # cute bit of file handling\n",
    "    df.to_sql('name', conn, if_exists = 'replace', index = False)\n",
    "    # later we may have to use an f-string when the data becomes purely numerical\n",
    "    try: # we use try here as it's a fun way to practice error handling\n",
    "        # performing our query to the database\n",
    "        result1 = pd.read_sql_query(\n",
    "            f\"SELECT AVG(\\\"math\\\") AS avg_math, MAX(\\\"math\\\") AS max_math, MIN(\\\"math\\\") AS min_math \\\n",
    "            FROM name \\\n",
    "            WHERE parents_education = 'associate''s degree' \"\n",
    "            , conn \n",
    "            )\n",
    "        \n",
    "        result2 = pd.read_sql_query(\n",
    "            f\"SELECT AVG(\\\"math\\\") AS avg_math, MAX(\\\"math\\\") AS max_math, MIN(\\\"math\\\") AS min_math \\\n",
    "            FROM name \\\n",
    "            WHERE parents_education = 'high school' OR parents_education = 'some high school' \"\n",
    "            , conn \n",
    "            )\n",
    "        \n",
    "        group_meals = {}\n",
    "        for letter in range(65,70):\n",
    "            group = f\"group {chr(letter)}\"\n",
    "            result3 = pd.read_sql_query(\n",
    "                f\"SELECT COUNT(*) AS cheap_meal \\\n",
    "                FROM name \\\n",
    "                WHERE ethnicity = '{group}' AND lunch = 'free/reduced'\"\n",
    "                ,conn\n",
    "            )\n",
    "            group_meals[group] = result3.at[0,\"cheap_meal\"]\n",
    "    except Exception as e:\n",
    "        print(f\"an error was found: {e}\")"
   ]
  },
  {
   "cell_type": "code",
   "execution_count": 6,
   "metadata": {},
   "outputs": [],
   "source": [
    "df_html = df[:10].to_html(classes='table table-striped', index=False)\n",
    "\n",
    "aggragations_highschool = {'mean': round(result1.at[0,f\"avg_math\"],2),\n",
    "        'maximum': result1.at[0,f\"max_math\"],\n",
    "        'minimum': result1.at[0,f\"min_math\"],\n",
    "         'Range': result1.at[0,f\"max_math\"] - result1.at[0,f\"min_math\"],\n",
    "         'standard deviation': round(df[f\"math\"].std(),2)}\n",
    "\n",
    "aggragations_associates = {'mean': round(result2.at[0,f\"avg_math\"],2),\n",
    "        'maximum': result2.at[0,f\"max_math\"],\n",
    "        'minimum': result2.at[0,f\"min_math\"],\n",
    "         'Range': result2.at[0,f\"max_math\"] - result2.at[0,f\"min_math\"],\n",
    "         'standard deviation': round(df[f\"math\"].std(),2)}\n"
   ]
  },
  {
   "cell_type": "code",
   "execution_count": 7,
   "metadata": {},
   "outputs": [
    {
     "name": "stderr",
     "output_type": "stream",
     "text": [
      "C:\\Users\\alloh\\AppData\\Local\\Temp\\ipykernel_24676\\1189847554.py:7: UserWarning: Matplotlib is currently using module://matplotlib_inline.backend_inline, which is a non-GUI backend, so cannot show the figure.\n",
      "  fig.show()\n"
     ]
    },
    {
     "data": {
      "image/png": "[encoded data removed]",
      "text/plain": [
       "<Figure size 640x480 with 1 Axes>"
      ]
     },
     "metadata": {},
     "output_type": "display_data"
    }
   ],
   "source": [
    "#figure our the problem with this cell\n",
    "fig = plt.figure()\n",
    "ax = fig.add_subplot()\n",
    "ax.set_ylabel('Number of Students on meal plan')\n",
    "ax.bar(list(group_meals.keys()), list(group_meals.values()), color=['green','red','blue','orange','yellow'])\n",
    "plt.savefig(r'C:\\Users\\alloh\\OneDrive\\Desktop\\coding\\workspace\\CV_projs\\SQL & ML\\website\\statics\\meals.jpeg')\n",
    "fig.show()"
   ]
  },
  {
   "cell_type": "code",
   "execution_count": 8,
   "metadata": {},
   "outputs": [
    {
     "name": "stderr",
     "output_type": "stream",
     "text": [
      "C:\\Users\\alloh\\AppData\\Local\\Temp\\ipykernel_24676\\2519243270.py:7: UserWarning: Matplotlib is currently using module://matplotlib_inline.backend_inline, which is a non-GUI backend, so cannot show the figure.\n",
      "  fig.show()\n"
     ]
    },
    {
     "data": {
      "image/png": "[encoded data removed]",
      "text/plain": [
       "<Figure size 640x480 with 1 Axes>"
      ]
     },
     "metadata": {},
     "output_type": "display_data"
    }
   ],
   "source": [
    "fig = plt.figure()\n",
    "ax = fig.add_subplot()\n",
    "ax.hist(df['math'])\n",
    "ax.set_xlabel('Values')\n",
    "ax.set_ylabel('Frequency')\n",
    "plt.savefig(r'C:\\Users\\alloh\\OneDrive\\Desktop\\coding\\workspace\\CV_projs\\SQL & ML\\website\\statics\\maths.jpeg')\n",
    "fig.show()"
   ]
  },
  {
   "cell_type": "code",
   "execution_count": 9,
   "metadata": {},
   "outputs": [
    {
     "name": "stderr",
     "output_type": "stream",
     "text": [
      "C:\\Users\\alloh\\AppData\\Local\\Temp\\ipykernel_24676\\1629202973.py:23: UserWarning: Matplotlib is currently using module://matplotlib_inline.backend_inline, which is a non-GUI backend, so cannot show the figure.\n",
      "  fig.show()\n"
     ]
    },
    {
     "data": {
      "image/png": "[encoded data removed]",
      "text/plain": [
       "<Figure size 640x480 with 2 Axes>"
      ]
     },
     "metadata": {},
     "output_type": "display_data"
    }
   ],
   "source": [
    "fig, (ax, ay) = plt.subplots(2, sharex=True)\n",
    "# next we must convert our discrete data into a contineuous probability distribution.\n",
    "frequincies = df['math'].value_counts(normalize=True)\n",
    "ax.bar(frequincies.index,frequincies.values)\n",
    "\n",
    "x = frequincies.index\n",
    "y = frequincies.values\n",
    "\n",
    "degree = 6 # we choose 6 as it provides a reasonably accurate approximation\n",
    "coefficients = np.polyfit(x, y, degree)\n",
    "polynomial = np.poly1d(coefficients)\n",
    "\n",
    "\n",
    "x_curve = np.linspace(min(x), max(x), 500)\n",
    "y_curve = polynomial(x_curve)\n",
    "\n",
    "ay.bar(x, y, width=0.6, color='skyblue', edgecolor='black', label='Histogram')\n",
    "ay.plot(x_curve, y_curve, color='red', label=f'Polynomial Degree {degree}')\n",
    "ay.set_xlabel('Values')\n",
    "ay.set_ylabel('Prbability Density')\n",
    "ax.set_title('Histogram with and without curve')\n",
    "fig.savefig(r'C:\\Users\\alloh\\OneDrive\\Desktop\\coding\\workspace\\CV_projs\\SQL & ML\\website\\statics\\maths_hist.jpeg')\n",
    "fig.show()"
   ]
  },
  {
   "cell_type": "code",
   "execution_count": 10,
   "metadata": {},
   "outputs": [
    {
     "name": "stdout",
     "output_type": "stream",
     "text": [
      "TtestResult(statistic=6.137850337584206, pvalue=1.2046750452316176e-09, df=999)\n",
      "-2.0095752344892093\n"
     ]
    }
   ],
   "source": [
    "# performs a T-test on our data\n",
    "test = stats.ttest_1samp(a = df['math'].values, popmean = aggragations_associates['mean'])\n",
    "print(test)\n",
    "\n",
    "# checks if we can reject the null hypothesis\n",
    "decide = stats.t.ppf(q = 0.025, df = 49)\n",
    "print(decide)"
   ]
  },
  {
   "cell_type": "code",
   "execution_count": 11,
   "metadata": {},
   "outputs": [
    {
     "name": "stderr",
     "output_type": "stream",
     "text": [
      "C:\\Users\\alloh\\AppData\\Local\\Temp\\ipykernel_24676\\4276327799.py:3: FutureWarning: Downcasting behavior in `replace` is deprecated and will be removed in a future version. To retain the old behavior, explicitly call `result.infer_objects(copy=False)`. To opt-in to the future behavior, set `pd.set_option('future.no_silent_downcasting', True)`\n",
      "  df['test_prep'] = df['test_prep'].replace('none',0)\n",
      "C:\\Users\\alloh\\AppData\\Local\\Temp\\ipykernel_24676\\4276327799.py:6: FutureWarning: Downcasting behavior in `replace` is deprecated and will be removed in a future version. To retain the old behavior, explicitly call `result.infer_objects(copy=False)`. To opt-in to the future behavior, set `pd.set_option('future.no_silent_downcasting', True)`\n",
      "  df['lunch'] = df['lunch'].replace('free/reduced',0)\n",
      "C:\\Users\\alloh\\AppData\\Local\\Temp\\ipykernel_24676\\4276327799.py:10: FutureWarning: Downcasting behavior in `replace` is deprecated and will be removed in a future version. To retain the old behavior, explicitly call `result.infer_objects(copy=False)`. To opt-in to the future behavior, set `pd.set_option('future.no_silent_downcasting', True)`\n",
      "  df['gender'] = df['gender'].replace('male',0)\n"
     ]
    },
    {
     "data": {
      "text/html": [
       "<div>\n",
       "<style scoped>\n",
       "    .dataframe tbody tr th:only-of-type {\n",
       "        vertical-align: middle;\n",
       "    }\n",
       "\n",
       "    .dataframe tbody tr th {\n",
       "        vertical-align: top;\n",
       "    }\n",
       "\n",
       "    .dataframe thead th {\n",
       "        text-align: right;\n",
       "    }\n",
       "</style>\n",
       "<table border=\"1\" class=\"dataframe\">\n",
       "  <thead>\n",
       "    <tr style=\"text-align: right;\">\n",
       "      <th></th>\n",
       "      <th>gender</th>\n",
       "      <th>lunch</th>\n",
       "      <th>test_prep</th>\n",
       "      <th>math</th>\n",
       "      <th>reading</th>\n",
       "      <th>writing</th>\n",
       "    </tr>\n",
       "  </thead>\n",
       "  <tbody>\n",
       "    <tr>\n",
       "      <th>0</th>\n",
       "      <td>1</td>\n",
       "      <td>1</td>\n",
       "      <td>1</td>\n",
       "      <td>59</td>\n",
       "      <td>70</td>\n",
       "      <td>78</td>\n",
       "    </tr>\n",
       "    <tr>\n",
       "      <th>1</th>\n",
       "      <td>0</td>\n",
       "      <td>1</td>\n",
       "      <td>0</td>\n",
       "      <td>96</td>\n",
       "      <td>93</td>\n",
       "      <td>87</td>\n",
       "    </tr>\n",
       "    <tr>\n",
       "      <th>2</th>\n",
       "      <td>1</td>\n",
       "      <td>0</td>\n",
       "      <td>0</td>\n",
       "      <td>57</td>\n",
       "      <td>76</td>\n",
       "      <td>77</td>\n",
       "    </tr>\n",
       "    <tr>\n",
       "      <th>3</th>\n",
       "      <td>0</td>\n",
       "      <td>0</td>\n",
       "      <td>0</td>\n",
       "      <td>70</td>\n",
       "      <td>70</td>\n",
       "      <td>63</td>\n",
       "    </tr>\n",
       "    <tr>\n",
       "      <th>4</th>\n",
       "      <td>1</td>\n",
       "      <td>1</td>\n",
       "      <td>0</td>\n",
       "      <td>83</td>\n",
       "      <td>85</td>\n",
       "      <td>86</td>\n",
       "    </tr>\n",
       "    <tr>\n",
       "      <th>...</th>\n",
       "      <td>...</td>\n",
       "      <td>...</td>\n",
       "      <td>...</td>\n",
       "      <td>...</td>\n",
       "      <td>...</td>\n",
       "      <td>...</td>\n",
       "    </tr>\n",
       "    <tr>\n",
       "      <th>995</th>\n",
       "      <td>0</td>\n",
       "      <td>1</td>\n",
       "      <td>0</td>\n",
       "      <td>77</td>\n",
       "      <td>77</td>\n",
       "      <td>71</td>\n",
       "    </tr>\n",
       "    <tr>\n",
       "      <th>996</th>\n",
       "      <td>0</td>\n",
       "      <td>1</td>\n",
       "      <td>0</td>\n",
       "      <td>80</td>\n",
       "      <td>66</td>\n",
       "      <td>66</td>\n",
       "    </tr>\n",
       "    <tr>\n",
       "      <th>997</th>\n",
       "      <td>1</td>\n",
       "      <td>1</td>\n",
       "      <td>1</td>\n",
       "      <td>67</td>\n",
       "      <td>86</td>\n",
       "      <td>86</td>\n",
       "    </tr>\n",
       "    <tr>\n",
       "      <th>998</th>\n",
       "      <td>0</td>\n",
       "      <td>1</td>\n",
       "      <td>0</td>\n",
       "      <td>80</td>\n",
       "      <td>72</td>\n",
       "      <td>62</td>\n",
       "    </tr>\n",
       "    <tr>\n",
       "      <th>999</th>\n",
       "      <td>0</td>\n",
       "      <td>1</td>\n",
       "      <td>0</td>\n",
       "      <td>58</td>\n",
       "      <td>47</td>\n",
       "      <td>45</td>\n",
       "    </tr>\n",
       "  </tbody>\n",
       "</table>\n",
       "<p>1000 rows × 6 columns</p>\n",
       "</div>"
      ],
      "text/plain": [
       "     gender  lunch  test_prep  math  reading  writing\n",
       "0         1      1          1    59       70       78\n",
       "1         0      1          0    96       93       87\n",
       "2         1      0          0    57       76       77\n",
       "3         0      0          0    70       70       63\n",
       "4         1      1          0    83       85       86\n",
       "..      ...    ...        ...   ...      ...      ...\n",
       "995       0      1          0    77       77       71\n",
       "996       0      1          0    80       66       66\n",
       "997       1      1          1    67       86       86\n",
       "998       0      1          0    80       72       62\n",
       "999       0      1          0    58       47       45\n",
       "\n",
       "[1000 rows x 6 columns]"
      ]
     },
     "execution_count": 11,
     "metadata": {},
     "output_type": "execute_result"
    }
   ],
   "source": [
    "\n",
    "# we may now begin the predictive analysis section of the project which will be used\n",
    "df['test_prep'] = df['test_prep'].replace('completed', 1)\n",
    "df['test_prep'] = df['test_prep'].replace('none',0)\n",
    "\n",
    "df['lunch'] = df['lunch'].replace('standard', 1)\n",
    "df['lunch'] = df['lunch'].replace('free/reduced',0)\n",
    "\n",
    "\n",
    "df['gender'] = df['gender'].replace('female',1)\n",
    "df['gender'] = df['gender'].replace('male',0)\n",
    "\n",
    "df = df.drop(columns = ['ethnicity','parents_education'])\n",
    "\n",
    "#spliting the dataset\n",
    "df"
   ]
  }
 ],
 "metadata": {
  "kernelspec": {
   "display_name": "Python 3",
   "language": "python",
   "name": "python3"
  },
  "language_info": {
   "codemirror_mode": {
    "name": "ipython",
    "version": 3
   },
   "file_extension": ".py",
   "mimetype": "text/x-python",
   "name": "python",
   "nbconvert_exporter": "python",
   "pygments_lexer": "ipython3",
   "version": "3.11.9"
  }
 },
 "nbformat": 4,
 "nbformat_minor": 2
}
